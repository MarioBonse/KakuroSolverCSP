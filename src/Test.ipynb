{
 "cells": [
  {
   "cell_type": "code",
   "execution_count": 55,
   "metadata": {},
   "outputs": [],
   "source": [
    "def empyfirst():\n",
    "    print(\"+----+\")\n",
    "    print(\"|    |\")\n",
    "    print(\"|    |\")\n",
    "    print(\"+----+\")\n",
    "\n",
    "def filledfirst():\n",
    "    print(\"+----+\")\n",
    "    print(\"|----|\")\n",
    "    print(\"|----|\")\n",
    "    print(\"+----+\")\n",
    "    \n",
    "def oputputfirst(hr = \" \", bl = \" \"):\n",
    "    print(\"+----+\")\n",
    "    print(\"|\\  \",hr,\"|\")\n",
    "    print(\"|\",bl,\"  \\|\")\n",
    "    print(\"+----+\")\n",
    "\n",
    "nrow = 4\n",
    "ncol = 12\n",
    "obj = [[]]\n",
    "\n"
   ]
  },
  {
   "cell_type": "code",
   "execution_count": 89,
   "metadata": {},
   "outputs": [
    {
     "name": "stdout",
     "output_type": "stream",
     "text": [
      "+----+----+----+----+----+----+----+----+----+----+----+----+\n",
      "|\\   |    |----|    |\\  4|\\  3|\\  2|\\  2|    |\\  2|\\  2|----|\n",
      "|   \\|    |----|    |4  \\|3  \\|2  \\|2  \\|    |2  \\|2  \\|----|\n",
      "+----+----+----+----+----+----+----+----+----+----+----+----+\n",
      "|\\   |\\  2|    |----|\\  2|\\  4|\\  4|    |\\  2|\\  4|----|\\  2|\n",
      "|   \\|2  \\|    |----|2  \\|4  \\|4  \\|    |2  \\|4  \\|----|2  \\|\n",
      "+----+----+----+----+----+----+----+----+----+----+----+----+\n",
      "|\\   |\\  2|----|\\  4|    |    |\\  2|\\  4|\\  4|\\  2|    |----|\n",
      "|   \\|2  \\|----|4  \\|    |    |2  \\|4  \\|4  \\|2  \\|    |----|\n",
      "+----+----+----+----+----+----+----+----+----+----+----+----+\n",
      "|\\   |    |\\  3|\\  3|\\  3|    |\\  3|----|\\  3|    |    |\\  2|\n",
      "|   \\|    |3  \\|3  \\|3  \\|    |3  \\|----|3  \\|    |    |2  \\|\n",
      "+----+----+----+----+----+----+----+----+----+----+----+----+\n"
     ]
    }
   ],
   "source": [
    "for row in range(nrow):\n",
    "    for i in range(4):\n",
    "        for col in range(ncol):\n",
    "            #the cell in the top-left position (0,0)\n",
    "            if (i == 0 or i == 3) and (row == 0) and (col == 0):\n",
    "                print(\"+----+\",end='')\n",
    "            if (i == 0 or i == 3) and (row == 0) and (col != 0):\n",
    "                print(\"----+\",end='')\n",
    "            if ( i == 3) and (row != 0) and (col != 0):\n",
    "                print(\"----+\",end='')\n",
    "            if ( i == 3)  and (row != 0) and (col == 0):\n",
    "                print(\"+----+\",end='')\n",
    "            #first column \n",
    "            #|  |\n",
    "            #|  |\n",
    "            if (i == 1 or i == 2) and (col == 0):\n",
    "                if obj[col + (ncol*row) ]== 0:\n",
    "                    print(\"|    |\", end = \"\")\n",
    "                elif obj[col +(ncol*row)]== 1:\n",
    "                    print(\"|----|\", end = \"\")\n",
    "                else:\n",
    "                    if i == 1:\n",
    "                        print(\"|\\   |\", end = \"\")\n",
    "                    if i == 2:\n",
    "                        print(\"|   \\|\", end = \"\")\n",
    "            if (i == 1 or i == 2) and (col != 0):\n",
    "                if obj[col + (ncol*row) ]== 0:\n",
    "                    print(\"    |\", end = \"\")\n",
    "                elif obj[col +(ncol*row)]== 1:\n",
    "                    print(\"----|\", end = \"\")\n",
    "                else:\n",
    "                    if i == 1:\n",
    "                        print('\\  %d|' %(obj[col +(ncol*row)]), end = \"\")\n",
    "                    if i == 2:\n",
    "                        print(obj[col +(ncol*row)],\" \\|\", end = \"\")\n",
    "        \n",
    "            \n",
    "        if (i != 0) or (row == 0):\n",
    "            print(\"\")\n",
    "            \n",
    "            \n",
    "            \n",
    "    "
   ]
  },
  {
   "cell_type": "code",
   "execution_count": 80,
   "metadata": {},
   "outputs": [
    {
     "name": "stdout",
     "output_type": "stream",
     "text": [
      "[4, 0, 1, 0, 4, 3, 2, 2, 0, 2, 2, 1, 3, 2, 0, 1, 2, 4, 4, 0, 2, 4, 1, 2, 2, 2, 1, 4, 0, 0, 2, 4, 4, 2, 0, 1, 3, 0, 3, 3, 3, 0, 3, 1, 3, 0, 0, 2]\n"
     ]
    }
   ],
   "source": [
    "import random\n",
    "obj = [None] * (nrow*ncol)\n",
    "for row in range(nrow):\n",
    "    for col in range(ncol):\n",
    "        obj[col +(ncol*row)]=random.randint(0,4)\n",
    "print(obj)"
   ]
  },
  {
   "cell_type": "code",
   "execution_count": 1,
   "metadata": {},
   "outputs": [],
   "source": [
    "import board"
   ]
  },
  {
   "cell_type": "code",
   "execution_count": 1,
   "metadata": {},
   "outputs": [],
   "source": [
    "import board\n",
    "sq = board.board(4,5)\n",
    "sq.square[1][2].type = \"tofill\""
   ]
  },
  {
   "cell_type": "code",
   "execution_count": 4,
   "metadata": {},
   "outputs": [
    {
     "name": "stdout",
     "output_type": "stream",
     "text": [
      "+----+----+----+----+----+\n",
      "|\\---|    |    |    |\\---|\n",
      "| 1 \\|    |    |    | 1 \\|\n",
      "+----+----+----+----+----+\n",
      "|    |    |----|    |\\---|\n",
      "|    |    |----|    | 1 \\|\n",
      "+----+----+----+----+----+\n",
      "|    |    |    |    |    |\n",
      "|    |    |    |    |    |\n",
      "+----+----+----+----+----+\n",
      "|    |    |    |    |    |\n",
      "|    |    |    |    |    |\n",
      "+----+----+----+----+----+\n"
     ]
    }
   ],
   "source": [
    "sq.square[0][0].type = \"target\"\n",
    "sq.print()"
   ]
  },
  {
   "cell_type": "code",
   "execution_count": null,
   "metadata": {},
   "outputs": [],
   "source": []
  }
 ],
 "metadata": {
  "kernelspec": {
   "display_name": "Python 3",
   "language": "python",
   "name": "python3"
  },
  "language_info": {
   "codemirror_mode": {
    "name": "ipython",
    "version": 3
   },
   "file_extension": ".py",
   "mimetype": "text/x-python",
   "name": "python",
   "nbconvert_exporter": "python",
   "pygments_lexer": "ipython3",
   "version": "3.6.7"
  }
 },
 "nbformat": 4,
 "nbformat_minor": 2
}
