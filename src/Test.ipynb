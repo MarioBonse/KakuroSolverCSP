{
 "cells": [
  {
   "cell_type": "code",
   "execution_count": 55,
   "metadata": {},
   "outputs": [],
   "source": [
    "def empyfirst():\n",
    "    print(\"+----+\")\n",
    "    print(\"|    |\")\n",
    "    print(\"|    |\")\n",
    "    print(\"+----+\")\n",
    "\n",
    "def filledfirst():\n",
    "    print(\"+----+\")\n",
    "    print(\"|----|\")\n",
    "    print(\"|----|\")\n",
    "    print(\"+----+\")\n",
    "    \n",
    "def oputputfirst(hr = \" \", bl = \" \"):\n",
    "    print(\"+----+\")\n",
    "    print(\"|\\  \",hr,\"|\")\n",
    "    print(\"|\",bl,\"  \\|\")\n",
    "    print(\"+----+\")\n",
    "\n",
    "nrow = 4\n",
    "ncol = 12\n",
    "obj = [[]]\n",
    "\n"
   ]
  },
  {
   "cell_type": "code",
   "execution_count": 89,
   "metadata": {},
   "outputs": [
    {
     "name": "stdout",
     "output_type": "stream",
     "text": [
      "+----+----+----+----+----+----+----+----+----+----+----+----+\n",
      "|\\   |    |----|    |\\  4|\\  3|\\  2|\\  2|    |\\  2|\\  2|----|\n",
      "|   \\|    |----|    |4  \\|3  \\|2  \\|2  \\|    |2  \\|2  \\|----|\n",
      "+----+----+----+----+----+----+----+----+----+----+----+----+\n",
      "|\\   |\\  2|    |----|\\  2|\\  4|\\  4|    |\\  2|\\  4|----|\\  2|\n",
      "|   \\|2  \\|    |----|2  \\|4  \\|4  \\|    |2  \\|4  \\|----|2  \\|\n",
      "+----+----+----+----+----+----+----+----+----+----+----+----+\n",
      "|\\   |\\  2|----|\\  4|    |    |\\  2|\\  4|\\  4|\\  2|    |----|\n",
      "|   \\|2  \\|----|4  \\|    |    |2  \\|4  \\|4  \\|2  \\|    |----|\n",
      "+----+----+----+----+----+----+----+----+----+----+----+----+\n",
      "|\\   |    |\\  3|\\  3|\\  3|    |\\  3|----|\\  3|    |    |\\  2|\n",
      "|   \\|    |3  \\|3  \\|3  \\|    |3  \\|----|3  \\|    |    |2  \\|\n",
      "+----+----+----+----+----+----+----+----+----+----+----+----+\n"
     ]
    }
   ],
   "source": [
    "for row in range(nrow):\n",
    "    for i in range(4):\n",
    "        for col in range(ncol):\n",
    "            #the cell in the top-left position (0,0)\n",
    "            if (i == 0 or i == 3) and (row == 0) and (col == 0):\n",
    "                print(\"+----+\",end='')\n",
    "            if (i == 0 or i == 3) and (row == 0) and (col != 0):\n",
    "                print(\"----+\",end='')\n",
    "            if ( i == 3) and (row != 0) and (col != 0):\n",
    "                print(\"----+\",end='')\n",
    "            if ( i == 3)  and (row != 0) and (col == 0):\n",
    "                print(\"+----+\",end='')\n",
    "            #first column \n",
    "            #|  |\n",
    "            #|  |\n",
    "            if (i == 1 or i == 2) and (col == 0):\n",
    "                if obj[col + (ncol*row) ]== 0:\n",
    "                    print(\"|    |\", end = \"\")\n",
    "                elif obj[col +(ncol*row)]== 1:\n",
    "                    print(\"|----|\", end = \"\")\n",
    "                else:\n",
    "                    if i == 1:\n",
    "                        print(\"|\\   |\", end = \"\")\n",
    "                    if i == 2:\n",
    "                        print(\"|   \\|\", end = \"\")\n",
    "            if (i == 1 or i == 2) and (col != 0):\n",
    "                if obj[col + (ncol*row) ]== 0:\n",
    "                    print(\"    |\", end = \"\")\n",
    "                elif obj[col +(ncol*row)]== 1:\n",
    "                    print(\"----|\", end = \"\")\n",
    "                else:\n",
    "                    if i == 1:\n",
    "                        print('\\  %d|' %(obj[col +(ncol*row)]), end = \"\")\n",
    "                    if i == 2:\n",
    "                        print(obj[col +(ncol*row)],\" \\|\", end = \"\")\n",
    "        \n",
    "            \n",
    "        if (i != 0) or (row == 0):\n",
    "            print(\"\")\n",
    "            \n",
    "            \n",
    "            \n",
    "    "
   ]
  },
  {
   "cell_type": "code",
   "execution_count": 80,
   "metadata": {},
   "outputs": [
    {
     "name": "stdout",
     "output_type": "stream",
     "text": [
      "[4, 0, 1, 0, 4, 3, 2, 2, 0, 2, 2, 1, 3, 2, 0, 1, 2, 4, 4, 0, 2, 4, 1, 2, 2, 2, 1, 4, 0, 0, 2, 4, 4, 2, 0, 1, 3, 0, 3, 3, 3, 0, 3, 1, 3, 0, 0, 2]\n"
     ]
    }
   ],
   "source": [
    "import random\n",
    "obj = [None] * (nrow*ncol)\n",
    "for row in range(nrow):\n",
    "    for col in range(ncol):\n",
    "        obj[col +(ncol*row)]=random.randint(0,4)\n",
    "print(obj)"
   ]
  },
  {
   "cell_type": "code",
   "execution_count": 1,
   "metadata": {},
   "outputs": [],
   "source": [
    "import board"
   ]
  },
  {
   "cell_type": "code",
   "execution_count": 1,
   "metadata": {},
   "outputs": [],
   "source": [
    "import board\n",
    "sq = board.board(4,5)\n",
    "sq.square[1][2].type = \"tofill\""
   ]
  },
  {
   "cell_type": "code",
   "execution_count": 17,
   "metadata": {},
   "outputs": [],
   "source": [
    "def findSolution(summ, domains):\n",
    "    if summ < 0:\n",
    "        return False\n",
    "    print(domains)\n",
    "    if len(domains) == 1:\n",
    "        print(domains)\n",
    "        #search the solution\n",
    "        for d in domains[0]:\n",
    "            if summ - int(d) == 0:\n",
    "                return True\n",
    "        return False\n",
    "    for d in domains[0]:\n",
    "        if findSolution(summ- d, domains[1:]):\n",
    "            return True\n",
    "    return False"
   ]
  },
  {
   "cell_type": "code",
   "execution_count": 12,
   "metadata": {},
   "outputs": [],
   "source": [
    "domains = [[1,2,3,], [1,2,3 ], [1,2]]"
   ]
  },
  {
   "cell_type": "code",
   "execution_count": 21,
   "metadata": {},
   "outputs": [
    {
     "name": "stdout",
     "output_type": "stream",
     "text": [
      "[[1, 2, 3], [1, 2, 3], [1, 2]]\n",
      "[[1, 2, 3], [1, 2]]\n",
      "[[1, 2]]\n",
      "[[1, 2]]\n",
      "[[1, 2, 3], [1, 2]]\n"
     ]
    },
    {
     "data": {
      "text/plain": [
       "False"
      ]
     },
     "execution_count": 21,
     "metadata": {},
     "output_type": "execute_result"
    }
   ],
   "source": [
    "findSolution(2, domains)"
   ]
  }
 ],
 "metadata": {
  "kernelspec": {
   "display_name": "Python 3",
   "language": "python",
   "name": "python3"
  },
  "language_info": {
   "codemirror_mode": {
    "name": "ipython",
    "version": 3
   },
   "file_extension": ".py",
   "mimetype": "text/x-python",
   "name": "python",
   "nbconvert_exporter": "python",
   "pygments_lexer": "ipython3",
   "version": "3.6.7"
  }
 },
 "nbformat": 4,
 "nbformat_minor": 2
}
